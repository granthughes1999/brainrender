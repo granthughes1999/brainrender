{
 "cells": [
  {
   "cell_type": "code",
   "execution_count": null,
   "id": "00d23f0c",
   "metadata": {},
   "outputs": [],
   "source": [
    "from brainrender.scene import Scene\n",
    "from brainrender.actors import Points\n",
    "from bg_atlasapi.bg_atlas import BrainGlobeAtlas\n",
    "from brainrender import settings\n",
    "from brainrender.actors import Cylinder\n",
    "import bg_space as bg\n",
    "import numpy as np\n",
    "from rich import print\n",
    "from myterial import orange\n",
    "from pathlib import Path"
   ]
  },
  {
   "cell_type": "code",
   "execution_count": null,
   "id": "513031a2",
   "metadata": {},
   "outputs": [],
   "source": []
  },
  {
   "cell_type": "code",
   "execution_count": null,
   "id": "924988ee",
   "metadata": {},
   "outputs": [],
   "source": [
    "\n",
    "\n",
    "# unknown from cylinder example file on github\n",
    "settings.SHOW_AXES = False\n",
    "settings.WHOLE_SCREEN = False\n",
    "\n",
    "print(f\"[{orange}]Running example: {Path(__file__).name}\")\n",
    "\n",
    "# atlas version you want to use\n",
    "atlas = BrainGlobeAtlas('allen_mouse_50um', check_latest=False)\n",
    "\n",
    "# Path to cellfinder_output points.npy file\n",
    "cells_path = r\"C:\\Users\\denma\\Desktop\\Grant\\cellfinder\\cellfinder_output\\points\\points.npy\"\n",
    "\n",
    "# path to locally stored allen mouse atlas\n",
    "allen_mouse_50um = r'C:\\Users\\denma\\.brainglobe\\allen_mouse_50um_v1.2'\n",
    "\n",
    "\n",
    "# intialise brainrender scene\n",
    "scene = Scene(atlas_name='allen_mouse_50um', title=\"G20_test\")\n",
    "print(scene.atlas.space)\n",
    "\n",
    "# You can specify color, transparency... of brain regions\n",
    "VISp = scene.add_brain_region(\"VISp\", alpha=0.2, color=\"green\")\n",
    "VISl = scene.add_brain_region('VISl',  alpha=0.2, color=\"red\")\n",
    "LGd = scene.add_brain_region('LGd', alpha=0.2, color=\"blue\")\n",
    "LP = scene.add_brain_region('LP', alpha=0.2, color=\"yellow\")\n",
    "\n",
    "# Add lables to brain regions\n",
    "scene.add_label(VISp, \"Primary Visual area\")\n",
    "scene.add_label(VISl, \"Lateral Visual area\")\n",
    "scene.add_label(LGd, \"Lateral Geniculate Nucleus of the Thalmus\")\n",
    "scene.add_label(LP, \"Lateral Posterior Thalmus\")\n",
    "\n",
    "# create and add a cylinder actor\n",
    "actor_electrode = Cylinder(\n",
    "    VISp,  # center the cylinder at the center of mass of Primary Visual area, by using its varaible name\n",
    "    scene.root,  # the cylinder actor needs information about the root mesh\n",
    ")\n",
    "\n",
    "# NOT sure what this does, from brainrender documentation...\n",
    "# BGSpace AnatomicalSpace Objects\n",
    "# origin: ('Superior', 'Posterior', 'Lateral')\n",
    "# sections: ('Frontal plane')\n",
    "# shape: (528, 320, 456)\n",
    "\n",
    "\n",
    "# create points actor\n",
    "cells = Points(cells_path)\n",
    "\n",
    "# Add cells Actor to Scence\n",
    "scene.add(cells, actor_electrode)\n",
    "\n",
    "# print the content of the scence\n",
    "scene.content\n",
    "\n",
    "# Render the 3D brain Scence\n",
    "scene.render()\n"
   ]
  }
 ],
 "metadata": {
  "kernelspec": {
   "display_name": "Python 3 (ipykernel)",
   "language": "python",
   "name": "python3"
  },
  "language_info": {
   "codemirror_mode": {
    "name": "ipython",
    "version": 3
   },
   "file_extension": ".py",
   "mimetype": "text/x-python",
   "name": "python",
   "nbconvert_exporter": "python",
   "pygments_lexer": "ipython3",
   "version": "3.9.7"
  }
 },
 "nbformat": 4,
 "nbformat_minor": 5
}
