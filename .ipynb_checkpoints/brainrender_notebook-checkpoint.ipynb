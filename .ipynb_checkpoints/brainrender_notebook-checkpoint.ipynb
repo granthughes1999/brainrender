{
 "cells": [
  {
   "cell_type": "code",
   "execution_count": 1,
   "id": "f96acc73",
   "metadata": {},
   "outputs": [
    {
     "name": "stdout",
     "output_type": "stream",
     "text": [
      "embedWindow(verbose=True): could not load ipyvtklink try:\n",
      "> pip install ipyvtklink\n"
     ]
    }
   ],
   "source": [
    "from brainrender.scene import Scene\n",
    "from brainrender.actors import Points\n",
    "from bg_atlasapi.bg_atlas import BrainGlobeAtlas\n",
    "from brainrender import settings\n",
    "from brainrender.actors import Cylinder\n",
    "import bg_space as bg\n",
    "import numpy as np\n",
    "from rich import print\n",
    "from myterial import orange\n",
    "from pathlib import Path"
   ]
  },
  {
   "cell_type": "markdown",
   "id": "b9c409b4",
   "metadata": {},
   "source": [
    "# Update these two paths "
   ]
  },
  {
   "cell_type": "code",
   "execution_count": 6,
   "id": "8549a722",
   "metadata": {},
   "outputs": [],
   "source": [
    "# path to cellfinder output folder\n",
    "cellfinder_output_path = \"/Users/grant/Desktop/mock_df/cellfinder_output/\"\n",
    "\n",
    "# path to local location of allen mouse brain atlas\n",
    "# you may need to download this atlas if not stored locally. allen_mouse_25um will be used if not specified\n",
    "allen_mouse_10um = '/Users/grant/brainglobe/allen_mouse_10um'"
   ]
  },
  {
   "cell_type": "code",
   "execution_count": 7,
   "id": "1fe05936",
   "metadata": {},
   "outputs": [
    {
     "data": {
      "text/html": [
       "<pre style=\"white-space:pre;overflow-x:auto;line-height:normal;font-family:Menlo,'DejaVu Sans Mono',consolas,'Courier New',monospace\"><span style=\"color: #800080; text-decoration-color: #800080\">/Users/grant/Desktop/mock_df/cellfinder_output/points/</span><span style=\"color: #ff00ff; text-decoration-color: #ff00ff\">points.npy</span>\n",
       "</pre>\n"
      ],
      "text/plain": [
       "\u001b[35m/Users/grant/Desktop/mock_df/cellfinder_output/points/\u001b[0m\u001b[95mpoints.npy\u001b[0m\n"
      ]
     },
     "metadata": {},
     "output_type": "display_data"
    }
   ],
   "source": [
    "# Path to cellfinder_output points.npy file\n",
    "cells_path = cellfinder_output_path + 'points/points.npy'\n",
    "print(cells_path)\n"
   ]
  },
  {
   "cell_type": "markdown",
   "id": "127a5317",
   "metadata": {},
   "source": [
    "### atlas version you want to use"
   ]
  },
  {
   "cell_type": "code",
   "execution_count": 9,
   "id": "7e82d426",
   "metadata": {},
   "outputs": [],
   "source": [
    "# options: allen_mouse_10um, allen_mouse_25um, allen_mouse_50um\n",
    "atlas = BrainGlobeAtlas('allen_mouse_50um', check_latest=False)"
   ]
  },
  {
   "cell_type": "markdown",
   "id": "a293648e",
   "metadata": {},
   "source": [
    "### Cylinder / track for estim @ optical stubs"
   ]
  },
  {
   "cell_type": "code",
   "execution_count": null,
   "id": "f1cd0cf5",
   "metadata": {},
   "outputs": [],
   "source": [
    "# unknown from cylinder example file on github\n",
    "settings.SHOW_AXES = False\n",
    "settings.WHOLE_SCREEN = False\n",
    "\n",
    "print(f\"[{orange}]Running example: {Path(__file__).name}\")"
   ]
  },
  {
   "cell_type": "markdown",
   "id": "67edcbe7",
   "metadata": {},
   "source": [
    "### intialise brainrender scene"
   ]
  },
  {
   "cell_type": "code",
   "execution_count": null,
   "id": "a8f7010a",
   "metadata": {},
   "outputs": [],
   "source": [
    "# intialise brainrender scene\n",
    "scene = Scene(atlas_name='allen_mouse_50um', title=\"G20_test\")\n",
    "print(scene.atlas.space)\n"
   ]
  },
  {
   "cell_type": "code",
   "execution_count": null,
   "id": "b83533c4",
   "metadata": {},
   "outputs": [],
   "source": [
    "# You can specify color, transparency... of brain regions\n",
    "VISp = scene.add_brain_region(\"VISp\", alpha=0.2, color=\"green\")\n",
    "VISl = scene.add_brain_region('VISl',  alpha=0.2, color=\"red\")\n",
    "LGd = scene.add_brain_region('LGd', alpha=0.2, color=\"blue\")\n",
    "LP = scene.add_brain_region('LP', alpha=0.2, color=\"yellow\")\n",
    "\n",
    "# Add lables to brain regions\n",
    "scene.add_label(VISp, \"Primary Visual area\")\n",
    "scene.add_label(VISl, \"Lateral Visual area\")\n",
    "scene.add_label(LGd, \"Lateral Geniculate Nucleus of the Thalmus\")\n",
    "scene.add_label(LP, \"Lateral Posterior Thalmus\")\n",
    "\n",
    "# create and add a cylinder actor\n",
    "actor_electrode = Cylinder(\n",
    "    VISp,  # center the cylinder at the center of mass of Primary Visual area, by using its varaible name\n",
    "    scene.root,  # the cylinder actor needs information about the root mesh\n",
    ")\n",
    "\n",
    "# NOT sure what this does, from brainrender documentation...\n",
    "# BGSpace AnatomicalSpace Objects\n",
    "# origin: ('Superior', 'Posterior', 'Lateral')\n",
    "# sections: ('Frontal plane')\n",
    "# shape: (528, 320, 456)\n",
    "\n",
    "\n",
    "# create points actor\n",
    "cells = Points(cells_path)\n",
    "\n",
    "# Add cells Actor to Scence\n",
    "scene.add(cells, actor_electrode)\n",
    "\n",
    "# print the content of the scence\n",
    "scene.content\n",
    "\n",
    "# Render the 3D brain Scence\n",
    "scene.render()\n"
   ]
  }
 ],
 "metadata": {
  "kernelspec": {
   "display_name": "Python 3 (ipykernel)",
   "language": "python",
   "name": "python3"
  },
  "language_info": {
   "codemirror_mode": {
    "name": "ipython",
    "version": 3
   },
   "file_extension": ".py",
   "mimetype": "text/x-python",
   "name": "python",
   "nbconvert_exporter": "python",
   "pygments_lexer": "ipython3",
   "version": "3.9.7"
  }
 },
 "nbformat": 4,
 "nbformat_minor": 5
}
