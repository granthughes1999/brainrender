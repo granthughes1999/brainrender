{
 "cells": [
  {
   "cell_type": "code",
   "execution_count": 60,
   "id": "9ec8c395",
   "metadata": {},
   "outputs": [],
   "source": [
    "from brainrender.scene import Scene\n",
    "from brainrender.actors import Points\n",
    "from bg_atlasapi.bg_atlas import BrainGlobeAtlas\n",
    "from brainrender import settings\n",
    "from brainrender.actors import Cylinder\n",
    "import bg_space as bg\n",
    "import numpy as np\n",
    "from rich import print\n",
    "from myterial import orange\n",
    "from pathlib import Path\n",
    "import pandas as pd\n",
    "import json\n",
    "from bg_atlasapi import show_atlases\n",
    "from bg_atlasapi.bg_atlas import BrainGlobeAtlas"
   ]
  },
  {
   "cell_type": "markdown",
   "id": "f2503e0e",
   "metadata": {},
   "source": [
    "# Update these three paths "
   ]
  },
  {
   "cell_type": "code",
   "execution_count": 72,
   "id": "3c738b82",
   "metadata": {},
   "outputs": [],
   "source": [
    "# How many top brain regions to evaluate. (default is 5)\n",
    "brain_regions_to_evalutate = 5\n",
    "\n",
    "# mouse id (example: G25)\n",
    "mouseid = \"test_000\"\n",
    "\n",
    "# path to cellfinder output folder\n",
    "cellfinder_output_path = \"/Users/grant/Desktop/mock_df/cellfinder_output/\"\n",
    "\n",
    "# path to local location of allen mouse brain atlas\n",
    "# you may need to download this atlas if not stored locally. allen_mouse_25um will be used if not specified\n",
    "allen_mouse_10um = '/Users/grant/brainglobe/allen_mouse_10um'"
   ]
  },
  {
   "cell_type": "code",
   "execution_count": 31,
   "id": "b91a8079",
   "metadata": {},
   "outputs": [],
   "source": [
    "# Path to cellfinder_output points.npy file\n",
    "cells_path = cellfinder_output_path + 'points/points.npy'\n"
   ]
  },
  {
   "cell_type": "markdown",
   "id": "4cf523bb",
   "metadata": {},
   "source": [
    "### read in gfp brain regions list with labled cells, created by working_with_cellfinder_data.py"
   ]
  },
  {
   "cell_type": "code",
   "execution_count": 77,
   "id": "d738a9d8",
   "metadata": {},
   "outputs": [],
   "source": [
    "atlas = BrainGlobeAtlas(\"allen_mouse_50um\")\n",
    "brain_regions_df = atlas.lookup_df.head(1000)\n",
    "\n",
    "brain_regions_acronym = brain_regions_df['acronym'].to_list()\n",
    "brain_regions_name = brain_regions_df['name'].to_list()\n"
   ]
  },
  {
   "cell_type": "code",
   "execution_count": 30,
   "id": "a41de805",
   "metadata": {},
   "outputs": [
    {
     "data": {
      "text/html": [
       "<pre style=\"white-space:pre;overflow-x:auto;line-height:normal;font-family:Menlo,'DejaVu Sans Mono',consolas,'Courier New',monospace\">top <span style=\"color: #008080; text-decoration-color: #008080; font-weight: bold\">5</span> brain regions with most labled cells in gfp\n",
       "</pre>\n"
      ],
      "text/plain": [
       "top \u001b[1;36m5\u001b[0m brain regions with most labled cells in gfp\n"
      ]
     },
     "metadata": {},
     "output_type": "display_data"
    },
    {
     "data": {
      "text/html": [
       "<pre style=\"white-space:pre;overflow-x:auto;line-height:normal;font-family:Menlo,'DejaVu Sans Mono',consolas,'Courier New',monospace\"><span style=\"font-weight: bold\">[</span>\n",
       "    <span style=\"color: #008000; text-decoration-color: #008000\">'Olfactory tubercle'</span>,\n",
       "    <span style=\"color: #008000; text-decoration-color: #008000\">'Piriform area'</span>,\n",
       "    <span style=\"color: #008000; text-decoration-color: #008000\">'Retrosplenial area, dorsal part, layer 1'</span>,\n",
       "    <span style=\"color: #008000; text-decoration-color: #008000\">'Retrosplenial area, dorsal part, layer 2/3'</span>,\n",
       "    <span style=\"color: #008000; text-decoration-color: #008000\">'Retrosplenial area, lateral agranular part, layer 1'</span>\n",
       "<span style=\"font-weight: bold\">]</span>\n",
       "</pre>\n"
      ],
      "text/plain": [
       "\u001b[1m[\u001b[0m\n",
       "    \u001b[32m'Olfactory tubercle'\u001b[0m,\n",
       "    \u001b[32m'Piriform area'\u001b[0m,\n",
       "    \u001b[32m'Retrosplenial area, dorsal part, layer 1'\u001b[0m,\n",
       "    \u001b[32m'Retrosplenial area, dorsal part, layer 2/3'\u001b[0m,\n",
       "    \u001b[32m'Retrosplenial area, lateral agranular part, layer 1'\u001b[0m\n",
       "\u001b[1m]\u001b[0m\n"
      ]
     },
     "metadata": {},
     "output_type": "display_data"
    }
   ],
   "source": [
    "# File path to the saved json file\n",
    "file_path = cellfinder_output_path + mouseid +\"_Completed_Analysis/\" +\"gfp_brainregions_list.json\"\n",
    "\n",
    "with open(file_path, 'r') as f:\n",
    "    file_content = f.read()\n",
    "    brain_regions_list = json.loads(file_content)\n",
    "\n",
    "print(\"top 5 brain regions with most labled cells in gfp\")\n",
    "print(brain_regions_list[0:5])"
   ]
  },
  {
   "cell_type": "markdown",
   "id": "81402b45",
   "metadata": {},
   "source": [
    "### create lists and df that contain the top 5 brain region abbrivation and brain_regions for this mouse"
   ]
  },
  {
   "cell_type": "code",
   "execution_count": 78,
   "id": "b4e258c9",
   "metadata": {},
   "outputs": [
    {
     "data": {
      "text/html": [
       "<div>\n",
       "<style scoped>\n",
       "    .dataframe tbody tr th:only-of-type {\n",
       "        vertical-align: middle;\n",
       "    }\n",
       "\n",
       "    .dataframe tbody tr th {\n",
       "        vertical-align: top;\n",
       "    }\n",
       "\n",
       "    .dataframe thead th {\n",
       "        text-align: right;\n",
       "    }\n",
       "</style>\n",
       "<table border=\"1\" class=\"dataframe\">\n",
       "  <thead>\n",
       "    <tr style=\"text-align: right;\">\n",
       "      <th></th>\n",
       "      <th>0</th>\n",
       "    </tr>\n",
       "  </thead>\n",
       "  <tbody>\n",
       "    <tr>\n",
       "      <th>Olfactory tubercle</th>\n",
       "      <td>OT</td>\n",
       "    </tr>\n",
       "    <tr>\n",
       "      <th>Piriform area</th>\n",
       "      <td>PIR</td>\n",
       "    </tr>\n",
       "    <tr>\n",
       "      <th>Retrosplenial area, dorsal part, layer 1</th>\n",
       "      <td>RSPd1</td>\n",
       "    </tr>\n",
       "    <tr>\n",
       "      <th>Retrosplenial area, dorsal part, layer 2/3</th>\n",
       "      <td>RSPd2/3</td>\n",
       "    </tr>\n",
       "    <tr>\n",
       "      <th>Retrosplenial area, lateral agranular part, layer 1</th>\n",
       "      <td>RSPagl1</td>\n",
       "    </tr>\n",
       "  </tbody>\n",
       "</table>\n",
       "</div>"
      ]
     },
     "execution_count": 78,
     "metadata": {},
     "output_type": "execute_result"
    }
   ],
   "source": [
    "evaluate_brain_regions = brain_regions_list[0:brain_regions_to_evalutate]\n",
    "\n",
    "\n",
    "index = []\n",
    "for i in evaluate_brain_regions:\n",
    "    index.append(brain_regions_name.index(i))\n",
    "\n",
    "evaluate_brain_region_acronyms = []    \n",
    "for i in index:\n",
    "    evaluate_brain_region_acronyms.append(brain_regions_acronym[i])\n",
    "\n",
    "evaluate_brain_regions_dictionary = dict(zip(evaluate_brain_regions, evaluate_brain_region_acronyms))\n",
    "evaluate_brain_regions_df = pd.DataFrame.from_dict(evaluate_brain_regions_dictionary,orient='index')\n",
    "evaluate_brain_regions_df.rename(index={0: 'acronym'}, inplace=True)\n",
    "\n",
    "evaluate_brain_regions_df"
   ]
  },
  {
   "cell_type": "markdown",
   "id": "83dbd986",
   "metadata": {},
   "source": [
    "### atlas version you want to use"
   ]
  },
  {
   "cell_type": "code",
   "execution_count": 9,
   "id": "027aad42",
   "metadata": {},
   "outputs": [],
   "source": [
    "# options: allen_mouse_10um, allen_mouse_25um, allen_mouse_50um\n",
    "atlas = BrainGlobeAtlas('allen_mouse_50um', check_latest=False)"
   ]
  },
  {
   "cell_type": "markdown",
   "id": "6f11f989",
   "metadata": {},
   "source": [
    "### Cylinder / track for estim @ optical stubs"
   ]
  },
  {
   "cell_type": "code",
   "execution_count": null,
   "id": "08201836",
   "metadata": {},
   "outputs": [],
   "source": [
    "# unknown from cylinder example file on github\n",
    "settings.SHOW_AXES = False\n",
    "settings.WHOLE_SCREEN = False\n",
    "\n",
    "print(f\"[{orange}]Running example: {Path(__file__).name}\")"
   ]
  },
  {
   "cell_type": "markdown",
   "id": "db772770",
   "metadata": {},
   "source": [
    "### intialise brainrender scene"
   ]
  },
  {
   "cell_type": "code",
   "execution_count": null,
   "id": "f7054fef",
   "metadata": {},
   "outputs": [],
   "source": [
    "# intialise brainrender scene\n",
    "scene = Scene(atlas_name='allen_mouse_50um', title=\"G20_test\")\n",
    "print(scene.atlas.space)\n"
   ]
  },
  {
   "cell_type": "markdown",
   "id": "677da130",
   "metadata": {},
   "source": [
    "### render using top brain regions "
   ]
  },
  {
   "cell_type": "code",
   "execution_count": 79,
   "id": "15d4517b",
   "metadata": {},
   "outputs": [
    {
     "data": {
      "text/html": [
       "<pre style=\"white-space:pre;overflow-x:auto;line-height:normal;font-family:Menlo,'DejaVu Sans Mono',consolas,'Courier New',monospace\"><span style=\"color: #008080; text-decoration-color: #008080; font-weight: bold\">0</span>\n",
       "</pre>\n"
      ],
      "text/plain": [
       "\u001b[1;36m0\u001b[0m\n"
      ]
     },
     "metadata": {},
     "output_type": "display_data"
    },
    {
     "ename": "NameError",
     "evalue": "name 'scene' is not defined",
     "output_type": "error",
     "traceback": [
      "\u001b[0;31m---------------------------------------------------------------------------\u001b[0m",
      "\u001b[0;31mNameError\u001b[0m                                 Traceback (most recent call last)",
      "\u001b[0;32m/var/folders/mc/qbcjsrl16h3gf6t6xvz8czzw0000gn/T/ipykernel_72615/1582857967.py\u001b[0m in \u001b[0;36m<module>\u001b[0;34m\u001b[0m\n\u001b[1;32m      3\u001b[0m \u001b[0;32mfor\u001b[0m \u001b[0mi\u001b[0m \u001b[0;32min\u001b[0m \u001b[0mrange\u001b[0m\u001b[0;34m(\u001b[0m\u001b[0mbrain_regions_to_evalutate\u001b[0m\u001b[0;34m)\u001b[0m\u001b[0;34m:\u001b[0m\u001b[0;34m\u001b[0m\u001b[0;34m\u001b[0m\u001b[0m\n\u001b[1;32m      4\u001b[0m     \u001b[0mprint\u001b[0m\u001b[0;34m(\u001b[0m\u001b[0mi\u001b[0m\u001b[0;34m)\u001b[0m\u001b[0;34m\u001b[0m\u001b[0;34m\u001b[0m\u001b[0m\n\u001b[0;32m----> 5\u001b[0;31m     \u001b[0mevaluate_brain_region_acronyms\u001b[0m\u001b[0;34m[\u001b[0m\u001b[0mi\u001b[0m\u001b[0;34m]\u001b[0m \u001b[0;34m=\u001b[0m \u001b[0mscene\u001b[0m\u001b[0;34m.\u001b[0m\u001b[0madd_brain_region\u001b[0m\u001b[0;34m(\u001b[0m\u001b[0mstr\u001b[0m\u001b[0;34m(\u001b[0m\u001b[0mevaluate_brain_region_acronyms\u001b[0m\u001b[0;34m[\u001b[0m\u001b[0mi\u001b[0m\u001b[0;34m]\u001b[0m\u001b[0;34m)\u001b[0m\u001b[0;34m,\u001b[0m \u001b[0malpha\u001b[0m\u001b[0;34m=\u001b[0m\u001b[0;36m0.2\u001b[0m\u001b[0;34m,\u001b[0m \u001b[0mcolor\u001b[0m\u001b[0;34m=\u001b[0m\u001b[0;34m\"green\"\u001b[0m\u001b[0;34m)\u001b[0m\u001b[0;34m\u001b[0m\u001b[0;34m\u001b[0m\u001b[0m\n\u001b[0m\u001b[1;32m      6\u001b[0m \u001b[0;31m#     top5_brain_region_acronyms[1] = scene.add_brain_region(str(top5_brain_region_acronyms[1]), alpha=0.2, color=\"green\")\u001b[0m\u001b[0;34m\u001b[0m\u001b[0;34m\u001b[0m\u001b[0m\n\u001b[1;32m      7\u001b[0m \u001b[0;31m#     top5_brain_region_acronyms[2] = scene.add_brain_region(str(top5_brain_region_acronyms[2]),  alpha=0.2, color=\"red\")\u001b[0m\u001b[0;34m\u001b[0m\u001b[0;34m\u001b[0m\u001b[0m\n",
      "\u001b[0;31mNameError\u001b[0m: name 'scene' is not defined"
     ]
    }
   ],
   "source": [
    "# You can specify color, transparency... of brain regions\n",
    "\n",
    "# add brain regions\n",
    "for i in range(brain_regions_to_evalutate):\n",
    "    print(i)\n",
    "    evaluate_brain_region_acronyms[i] = scene.add_brain_region(str(evaluate_brain_region_acronyms[i]), alpha=0.2, color=\"green\")\n",
    "#     top5_brain_region_acronyms[1] = scene.add_brain_region(str(top5_brain_region_acronyms[1]), alpha=0.2, color=\"green\")\n",
    "#     top5_brain_region_acronyms[2] = scene.add_brain_region(str(top5_brain_region_acronyms[2]),  alpha=0.2, color=\"red\")\n",
    "#     top5_brain_region_acronyms[3] = scene.add_brain_region(str(top5_brain_region_acronyms[3]), alpha=0.2, color=\"blue\")\n",
    "#     top5_brain_region_acronyms[4] = scene.add_brain_region(str(top5_brain_region_acronyms[4]), alpha=0.2, color=\"yellow\")\n",
    "\n",
    "# Add lables to brain regions\n",
    "for i in range(brain_regions_to_evalutate):\n",
    "    print(i)   \n",
    "    scene.add_label(evaluate_brain_region_acronyms[i], str(evaluate_brain_regions[i]))\n",
    "#     scene.add_label(evaluate_brain_region_acronyms[1], str(top5_brain_regions[1]))\n",
    "#     scene.add_label(evaluate_brain_region_acronyms[2], str(top5_brain_regions[2]))\n",
    "#     scene.add_label(evaluate_brain_region_acronyms[3], str(top5_brain_regions[3]))\n",
    "#     scene.add_label(evaluate_brain_region_acronyms[4], str(top5_brain_regions[4]))\n"
   ]
  },
  {
   "cell_type": "code",
   "execution_count": null,
   "id": "3e321b11",
   "metadata": {},
   "outputs": [],
   "source": [
    "# create and add a cylinder actor\n",
    "actor_electrode = Cylinder(\n",
    "    VISp,  # center the cylinder at the center of mass of Primary Visual area, by using its varaible name\n",
    "    scene.root,  # the cylinder actor needs information about the root mesh\n",
    ")\n",
    "\n",
    "# NOT sure what this does, from brainrender documentation...\n",
    "# BGSpace AnatomicalSpace Objects\n",
    "# origin: ('Superior', 'Posterior', 'Lateral')\n",
    "# sections: ('Frontal plane')\n",
    "# shape: (528, 320, 456)\n",
    "\n",
    "\n",
    "# create points actor\n",
    "cells = Points(cells_path)\n",
    "\n",
    "# Add cells Actor to Scence\n",
    "scene.add(cells, actor_electrode)\n",
    "\n",
    "# print the content of the scence\n",
    "scene.content\n",
    "\n",
    "# Render the 3D brain Scence\n",
    "scene.render()"
   ]
  },
  {
   "cell_type": "markdown",
   "id": "bdf96581",
   "metadata": {},
   "source": [
    "### render using visual areas"
   ]
  },
  {
   "cell_type": "code",
   "execution_count": null,
   "id": "ab34eb8e",
   "metadata": {},
   "outputs": [],
   "source": [
    "# You can specify color, transparency... of brain regions\n",
    "VISp = scene.add_brain_region(\"VISp\", alpha=0.2, color=\"green\")\n",
    "VISl = scene.add_brain_region('VISl',  alpha=0.2, color=\"red\")\n",
    "LGd = scene.add_brain_region('LGd', alpha=0.2, color=\"blue\")\n",
    "LP = scene.add_brain_region('LP', alpha=0.2, color=\"yellow\")\n",
    "\n",
    "# Add lables to brain regions\n",
    "scene.add_label(VISp, \"Primary Visual area\")\n",
    "scene.add_label(VISl, \"Lateral Visual area\")\n",
    "scene.add_label(LGd, \"Lateral Geniculate Nucleus of the Thalmus\")\n",
    "scene.add_label(LP, \"Lateral Posterior Thalmus\")\n",
    "\n",
    "# NOT sure what this does, from brainrender documentation...\n",
    "# BGSpace AnatomicalSpace Objects\n",
    "# origin: ('Superior', 'Posterior', 'Lateral')\n",
    "# sections: ('Frontal plane')\n",
    "# shape: (528, 320, 456)\n"
   ]
  },
  {
   "cell_type": "code",
   "execution_count": null,
   "id": "b37cc22d",
   "metadata": {},
   "outputs": [],
   "source": [
    "\n",
    "# create and add a cylinder actor\n",
    "actor_electrode = Cylinder(\n",
    "    VISp,  # center the cylinder at the center of mass of Primary Visual area, by using its varaible name\n",
    "    scene.root,  # the cylinder actor needs information about the root mesh\n",
    ")\n"
   ]
  },
  {
   "cell_type": "code",
   "execution_count": null,
   "id": "2a54b34d",
   "metadata": {},
   "outputs": [],
   "source": [
    "\n",
    "# create points actor\n",
    "cells = Points(cells_path)\n",
    "\n",
    "# Add cells Actor to Scence\n",
    "scene.add(cells, actor_electrode)\n",
    "\n",
    "# print the content of the scence\n",
    "scene.content\n",
    "\n",
    "# Render the 3D brain Scence\n",
    "scene.render()"
   ]
  }
 ],
 "metadata": {
  "kernelspec": {
   "display_name": "Python 3 (ipykernel)",
   "language": "python",
   "name": "python3"
  },
  "language_info": {
   "codemirror_mode": {
    "name": "ipython",
    "version": 3
   },
   "file_extension": ".py",
   "mimetype": "text/x-python",
   "name": "python",
   "nbconvert_exporter": "python",
   "pygments_lexer": "ipython3",
   "version": "3.9.7"
  }
 },
 "nbformat": 4,
 "nbformat_minor": 5
}
