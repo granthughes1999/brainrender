{
 "cells": [
  {
   "cell_type": "code",
   "execution_count": 14,
   "id": "0a2b4954",
   "metadata": {},
   "outputs": [],
   "source": [
    "from brainrender.scene import Scene\n",
    "from brainrender.actors import Points\n",
    "from bg_atlasapi.bg_atlas import BrainGlobeAtlas\n",
    "from brainrender import settings\n",
    "from brainrender.actors import Cylinder\n",
    "import bg_space as bg\n",
    "import numpy as np\n",
    "from rich import print\n",
    "from myterial import orange\n",
    "from pathlib import Path\n",
    "import json\n",
    "\n",
    "from bg_atlasapi import show_atlases\n",
    "from bg_atlasapi.bg_atlas import BrainGlobeAtlas"
   ]
  },
  {
   "cell_type": "code",
   "execution_count": 37,
   "id": "77e72bde",
   "metadata": {},
   "outputs": [],
   "source": [
    "# brain_region_dic = { 'ACAd' : 'Anterior cingulate area, dorsal part ACAv Anterior cingulate area, venteral part AH Ammon’s Horn',\n",
    "#                     'AId' : 'Agranular insular area, dorsal part AIp Agranular insular area, posterior part AIv Agranular insular area, ventral part AMY Amygdala',\n",
    "#                     'AUDd' : 'Dorsal auditory area AUDp Primary auditory area AUDpo Posterior auditory area AUDv Ventral auditory area DP Dorsal peduncular area ECT Ectorhinal area',\n",
    "#                     'ENTl' : 'Entorhinal cortex, lateral part ENTm Entorhinal cortex, medial part FRP Frontal pole, cerebral cortex GU Gustatory area',\n",
    "#                     'HPF' : 'Hippocampal formation',\n",
    "#                     'ILA'  : 'Infralimbic area',\n",
    "#                     'MOB' : 'Main olfactory bulb',\n",
    "#                     'MOp-ll' : 'Primary somatomotor area, lower limb domain MOp-orf Primary somatomotor area, orofaciopharyngeal domain MOp-ul Primary somatomotor area, upper limb domain MOp-w Primary somatomotor area, whisker domain',\n",
    "#                     'MOs-c' : 'Secondary somatomotor area, caudal domain',\n",
    "#                     'MOs-fef' : 'Secondary somatomotor area, frontal eye field',\n",
    "#                     'MOs-rd' : 'Secondary somatomotor area, rostrodorsal domain (upper limb)',\n",
    "#                     'MOs-rdl' :'Secondary somatomotor area, rostrodorsolateral domain(orofaciopharyngeal)',\n",
    "#                     'MOs-rdm' : 'Secondary somatomotor area, rostrodorsomedial domain (lowerlimb and trunk)',\n",
    "#                     'ORBl' : 'Orbital area, lateral part',\n",
    "#                     'ORBv' : 'Orbiatl area, ventral part',\n",
    "#                     'ORBvl' : 'Orbital area, ventrolateral part',\n",
    "#                     'ORBm' : 'Orbital area, medial part',\n",
    "#                     'PERI' : 'Perirhinal area',\n",
    "#                     'PFC' : 'Prefrontal cortex',\n",
    "#                     'PFCdl' : 'Prefrontal cortex, dorsolateral division PFCvm Prefrontal cortex, ventromedial division PL Prelimbic area',\n",
    "#                     'PTLp' : 'Posterior parietal association area RSPagl Retrosplenial area, lateral agranular part',\n",
    "#                     'RSPd' : 'Retrosplenial area, dorsal part',\n",
    "#                     'RSPv' : 'Retrosplenial area, ventral part',\n",
    "#                     'SSp-bfd' : 'Primary somatosensory area, barrel field',\n",
    "#                     'SSp-bfd.al' : 'Primary somatosensory area, barrel field, anterolateral domain SSp-bfd.cm Primary somatosensory area, barrel field, caudomedial domain SSp-ll Primary somatosensory area, lower limb domain',\n",
    "#                     'SSp-m' : 'Primary somatosensory area, mouth domain',\n",
    "#                     'SSp-n' : 'Primary somatosensory area, nose domain',\n",
    "#                     'SSp-tr' : 'Primary somatosensory area, trunk domain',\n",
    "#                    'SSp-ul' : 'Primary somatosensory area, upper limb domain',\n",
    "#                     'SSs-r' : 'Supplementary somatosensory area, rostral domain SSs-cd Supplementary somatosensory area, caudodorsal domain SSs-cv Supplementary somatosensory area, caudoventral domain SUB Subiculum',\n",
    "#                     'SUBd' : 'Dorsal subiculum',\n",
    "#                     'TEa' : 'Temporal association areas',\n",
    "#                     'VISal' : 'Anterolateral visual area',\n",
    "#                     'VISam' : 'Anteromedial visual area',\n",
    "#                     'VISl' : 'Lateral visual area VISp Primary visual area',\n",
    "#                     'VISpl' : 'Posterolateral visual area',\n",
    "#                     'VISpm' : 'Posteromedial visual area', }\n",
    "\n",
    "# Abbreviation = list(brain_region_dic.keys())\n",
    "# Anatomical_Region = list(brain_region_dic.values())"
   ]
  },
  {
   "cell_type": "markdown",
   "id": "8d6200a8",
   "metadata": {},
   "source": [
    "# Update these three paths "
   ]
  },
  {
   "cell_type": "code",
   "execution_count": 15,
   "id": "fb88740a",
   "metadata": {},
   "outputs": [],
   "source": [
    "# mouse id (example: G25)\n",
    "mouseid = \"test_000\"\n",
    "\n",
    "# path to cellfinder output folder\n",
    "cellfinder_output_path = \"/Users/grant/Desktop/mock_df/cellfinder_output/\"\n",
    "\n",
    "# path to local location of allen mouse brain atlas\n",
    "# you may need to download this atlas if not stored locally. allen_mouse_25um will be used if not specified\n",
    "allen_mouse_10um = '/Users/grant/brainglobe/allen_mouse_10um'"
   ]
  },
  {
   "cell_type": "code",
   "execution_count": 31,
   "id": "3581c0e7",
   "metadata": {},
   "outputs": [],
   "source": [
    "# Path to cellfinder_output points.npy file\n",
    "cells_path = cellfinder_output_path + 'points/points.npy'\n"
   ]
  },
  {
   "cell_type": "markdown",
   "id": "abf6e10b",
   "metadata": {},
   "source": [
    "### read in gfp brain regions list with labled cells, created by working_with_cellfinder_data.py"
   ]
  },
  {
   "cell_type": "code",
   "execution_count": 51,
   "id": "7c6f3bf0",
   "metadata": {},
   "outputs": [
    {
     "data": {
      "text/html": [
       "<pre style=\"white-space:pre;overflow-x:auto;line-height:normal;font-family:Menlo,'DejaVu Sans Mono',consolas,'Courier New',monospace\"><span style=\"color: #008080; text-decoration-color: #008080; font-weight: bold\">840</span>\n",
       "</pre>\n"
      ],
      "text/plain": [
       "\u001b[1;36m840\u001b[0m\n"
      ]
     },
     "metadata": {},
     "output_type": "display_data"
    },
    {
     "data": {
      "text/html": [
       "<pre style=\"white-space:pre;overflow-x:auto;line-height:normal;font-family:Menlo,'DejaVu Sans Mono',consolas,'Courier New',monospace\"><span style=\"color: #008080; text-decoration-color: #008080; font-weight: bold\">840</span>\n",
       "</pre>\n"
      ],
      "text/plain": [
       "\u001b[1;36m840\u001b[0m\n"
      ]
     },
     "metadata": {},
     "output_type": "display_data"
    }
   ],
   "source": [
    "atlas = BrainGlobeAtlas(\"allen_mouse_50um\")\n",
    "brain_regions_df = atlas.lookup_df.head(1000)\n",
    "\n",
    "brain_regions_acronym = brain_regions_df['acronym'].to_list()\n",
    "brain_regions_name = brain_regions_df['name'].to_list()\n",
    "\n",
    "print(len(brain_regions_acronym))\n",
    "print(len(brain_regions_name))"
   ]
  },
  {
   "cell_type": "code",
   "execution_count": 30,
   "id": "6b97005f",
   "metadata": {},
   "outputs": [
    {
     "data": {
      "text/html": [
       "<pre style=\"white-space:pre;overflow-x:auto;line-height:normal;font-family:Menlo,'DejaVu Sans Mono',consolas,'Courier New',monospace\">top <span style=\"color: #008080; text-decoration-color: #008080; font-weight: bold\">5</span> brain regions with most labled cells in gfp\n",
       "</pre>\n"
      ],
      "text/plain": [
       "top \u001b[1;36m5\u001b[0m brain regions with most labled cells in gfp\n"
      ]
     },
     "metadata": {},
     "output_type": "display_data"
    },
    {
     "data": {
      "text/html": [
       "<pre style=\"white-space:pre;overflow-x:auto;line-height:normal;font-family:Menlo,'DejaVu Sans Mono',consolas,'Courier New',monospace\"><span style=\"font-weight: bold\">[</span>\n",
       "    <span style=\"color: #008000; text-decoration-color: #008000\">'Olfactory tubercle'</span>,\n",
       "    <span style=\"color: #008000; text-decoration-color: #008000\">'Piriform area'</span>,\n",
       "    <span style=\"color: #008000; text-decoration-color: #008000\">'Retrosplenial area, dorsal part, layer 1'</span>,\n",
       "    <span style=\"color: #008000; text-decoration-color: #008000\">'Retrosplenial area, dorsal part, layer 2/3'</span>,\n",
       "    <span style=\"color: #008000; text-decoration-color: #008000\">'Retrosplenial area, lateral agranular part, layer 1'</span>\n",
       "<span style=\"font-weight: bold\">]</span>\n",
       "</pre>\n"
      ],
      "text/plain": [
       "\u001b[1m[\u001b[0m\n",
       "    \u001b[32m'Olfactory tubercle'\u001b[0m,\n",
       "    \u001b[32m'Piriform area'\u001b[0m,\n",
       "    \u001b[32m'Retrosplenial area, dorsal part, layer 1'\u001b[0m,\n",
       "    \u001b[32m'Retrosplenial area, dorsal part, layer 2/3'\u001b[0m,\n",
       "    \u001b[32m'Retrosplenial area, lateral agranular part, layer 1'\u001b[0m\n",
       "\u001b[1m]\u001b[0m\n"
      ]
     },
     "metadata": {},
     "output_type": "display_data"
    }
   ],
   "source": [
    "# File path to the saved json file\n",
    "file_path = cellfinder_output_path + mouseid +\"_Completed_Analysis/\" +\"gfp_brainregions_list.json\"\n",
    "\n",
    "with open(file_path, 'r') as f:\n",
    "    file_content = f.read()\n",
    "    brain_regions_list = json.loads(file_content)\n",
    "print(\"top 5 brain regions with most labled cells in gfp\")\n",
    "print(brain_regions_list[0:5])"
   ]
  },
  {
   "cell_type": "markdown",
   "id": "6fe4ed78",
   "metadata": {},
   "source": [
    "### create lists that contain the top 5 brain region abbrivation and brain_regions"
   ]
  },
  {
   "cell_type": "code",
   "execution_count": 53,
   "id": "8a2568f2",
   "metadata": {},
   "outputs": [
    {
     "data": {
      "text/html": [
       "<pre style=\"white-space:pre;overflow-x:auto;line-height:normal;font-family:Menlo,'DejaVu Sans Mono',consolas,'Courier New',monospace\"><span style=\"font-weight: bold\">[</span><span style=\"color: #008080; text-decoration-color: #008080; font-weight: bold\">377</span>, <span style=\"color: #008080; text-decoration-color: #008080; font-weight: bold\">311</span>, <span style=\"color: #008080; text-decoration-color: #008080; font-weight: bold\">254</span>, <span style=\"color: #008080; text-decoration-color: #008080; font-weight: bold\">255</span>, <span style=\"color: #008080; text-decoration-color: #008080; font-weight: bold\">248</span><span style=\"font-weight: bold\">]</span>\n",
       "</pre>\n"
      ],
      "text/plain": [
       "\u001b[1m[\u001b[0m\u001b[1;36m377\u001b[0m, \u001b[1;36m311\u001b[0m, \u001b[1;36m254\u001b[0m, \u001b[1;36m255\u001b[0m, \u001b[1;36m248\u001b[0m\u001b[1m]\u001b[0m\n"
      ]
     },
     "metadata": {},
     "output_type": "display_data"
    }
   ],
   "source": [
    "top5_brain_regions = brain_regions_list[0:5]\n",
    "\n",
    "index = []\n",
    "for i in top5_brain_regions:\n",
    "    index.append(brain_regions_name.index(i))\n",
    "\n",
    "index  "
   ]
  },
  {
   "cell_type": "markdown",
   "id": "7b70846e",
   "metadata": {},
   "source": [
    "### atlas version you want to use"
   ]
  },
  {
   "cell_type": "code",
   "execution_count": 9,
   "id": "9dc152d0",
   "metadata": {},
   "outputs": [],
   "source": [
    "# options: allen_mouse_10um, allen_mouse_25um, allen_mouse_50um\n",
    "atlas = BrainGlobeAtlas('allen_mouse_50um', check_latest=False)"
   ]
  },
  {
   "cell_type": "markdown",
   "id": "f0d7ab66",
   "metadata": {},
   "source": [
    "### Cylinder / track for estim @ optical stubs"
   ]
  },
  {
   "cell_type": "code",
   "execution_count": null,
   "id": "7e16afec",
   "metadata": {},
   "outputs": [],
   "source": [
    "# unknown from cylinder example file on github\n",
    "settings.SHOW_AXES = False\n",
    "settings.WHOLE_SCREEN = False\n",
    "\n",
    "print(f\"[{orange}]Running example: {Path(__file__).name}\")"
   ]
  },
  {
   "cell_type": "markdown",
   "id": "1f46c3c2",
   "metadata": {},
   "source": [
    "### intialise brainrender scene"
   ]
  },
  {
   "cell_type": "code",
   "execution_count": null,
   "id": "a388d54c",
   "metadata": {},
   "outputs": [],
   "source": [
    "# intialise brainrender scene\n",
    "scene = Scene(atlas_name='allen_mouse_50um', title=\"G20_test\")\n",
    "print(scene.atlas.space)\n"
   ]
  },
  {
   "cell_type": "code",
   "execution_count": null,
   "id": "5dcc61b8",
   "metadata": {},
   "outputs": [],
   "source": [
    "# You can specify color, transparency... of brain regions\n",
    "VISp = scene.add_brain_region(\"VISp\", alpha=0.2, color=\"green\")\n",
    "VISl = scene.add_brain_region('VISl',  alpha=0.2, color=\"red\")\n",
    "LGd = scene.add_brain_region('LGd', alpha=0.2, color=\"blue\")\n",
    "LP = scene.add_brain_region('LP', alpha=0.2, color=\"yellow\")\n",
    "\n",
    "# Add lables to brain regions\n",
    "scene.add_label(VISp, \"Primary Visual area\")\n",
    "scene.add_label(VISl, \"Lateral Visual area\")\n",
    "scene.add_label(LGd, \"Lateral Geniculate Nucleus of the Thalmus\")\n",
    "scene.add_label(LP, \"Lateral Posterior Thalmus\")\n",
    "\n",
    "# create and add a cylinder actor\n",
    "actor_electrode = Cylinder(\n",
    "    VISp,  # center the cylinder at the center of mass of Primary Visual area, by using its varaible name\n",
    "    scene.root,  # the cylinder actor needs information about the root mesh\n",
    ")\n",
    "\n",
    "# NOT sure what this does, from brainrender documentation...\n",
    "# BGSpace AnatomicalSpace Objects\n",
    "# origin: ('Superior', 'Posterior', 'Lateral')\n",
    "# sections: ('Frontal plane')\n",
    "# shape: (528, 320, 456)\n",
    "\n",
    "\n",
    "# create points actor\n",
    "cells = Points(cells_path)\n",
    "\n",
    "# Add cells Actor to Scence\n",
    "scene.add(cells, actor_electrode)\n",
    "\n",
    "# print the content of the scence\n",
    "scene.content\n",
    "\n",
    "# Render the 3D brain Scence\n",
    "scene.render()\n"
   ]
  }
 ],
 "metadata": {
  "kernelspec": {
   "display_name": "Python 3 (ipykernel)",
   "language": "python",
   "name": "python3"
  },
  "language_info": {
   "codemirror_mode": {
    "name": "ipython",
    "version": 3
   },
   "file_extension": ".py",
   "mimetype": "text/x-python",
   "name": "python",
   "nbconvert_exporter": "python",
   "pygments_lexer": "ipython3",
   "version": "3.9.7"
  }
 },
 "nbformat": 4,
 "nbformat_minor": 5
}
